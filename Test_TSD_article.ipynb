{
 "cells": [
  {
   "cell_type": "code",
   "execution_count": 1,
   "metadata": {},
   "outputs": [],
   "source": [
    "import numpy as np\n",
    "import scipy.signal\n",
    "import hfda"
   ]
  },
  {
   "cell_type": "code",
   "execution_count": null,
   "metadata": {},
   "outputs": [],
   "source": [
    "###Mean and variance for a specific interval\n",
    "def Mean_taux(signal,taux,hprime,h=0):\n",
    "    return (1/hprime)*np.sum((signal[h+taux:taux+hprime+h]))\n",
    "\n",
    "def Variance_taux(signal,taux,hprime,h=0):\n",
    "    return (1/hprime)*np.sum((signal[h+taux:taux+hprime+h]-Mean_taux(signal,taux,hprime,h))**2)"
   ]
  },
  {
   "cell_type": "code",
   "execution_count": null,
   "metadata": {},
   "outputs": [],
   "source": [
    "###I1 and I2:\n",
    "\n",
    "def I1(c,signal,fs,h,hprime,t0=0):\n",
    "    if (t0>c or t0<0):\n",
    "        return \"error : t0 is outside the range you want to calculate\"\n",
    "    elif (c>len(signal) or c<0):\n",
    "        return \"error : c is outside the range of your signal\"\n",
    "    else: \n",
    "        I1c = 0\n",
    "        for i in range(t0,int(c*fs),int(c*fs)): \n",
    "            a =(1/h)*np.abs(Mean_taux(signal,i,hprime,h)-Mean_taux(signal,i,hprime))\n",
    "            I1c = I1c+a\n",
    "    return I1c\n",
    "\n",
    "def I2(c,signal,fs,h,hprime,t0=0):\n",
    "    if (t0>c or t0<0):\n",
    "        return \"error : t0 is outside the range you want to calculate\"\n",
    "    elif (c>len(signal) or c<0):\n",
    "        return \"error : c is outside the range of your signal\"\n",
    "    else: \n",
    "        I2c = 0\n",
    "        for i in range(t0,int(c*fs),int(c*fs)): \n",
    "            a =(1/h)*np.abs(Variance_taux(signal,i,hprime,h)-Variance_taux(signal,i,hprime))\n",
    "            I2c = I2c+a\n",
    "    return I2c"
   ]
  },
  {
   "cell_type": "code",
   "execution_count": null,
   "metadata": {},
   "outputs": [],
   "source": [
    "def discrepancies_mean_curve(signal,fs,h,hprime,t0=0):\n",
    "    c = range(t0,len(signal),5)\n",
    "    I1_val = np.array([])\n",
    "    I2_val = np.array([])\n",
    "    for j in c:\n",
    "        I1_val = np.append(I1_val,I1(signal,fs,h,hprime,t0))\n",
    "        I2_val = np.append(I2_val,I2(signal,fs,h,hprime,t0))\n",
    "    return I1_val,I2_val"
   ]
  }
 ],
 "metadata": {
  "kernelspec": {
   "display_name": "Python 3.8.13 64-bit",
   "language": "python",
   "name": "python3"
  },
  "language_info": {
   "codemirror_mode": {
    "name": "ipython",
    "version": 3
   },
   "file_extension": ".py",
   "mimetype": "text/x-python",
   "name": "python",
   "nbconvert_exporter": "python",
   "pygments_lexer": "ipython3",
   "version": "3.8.13"
  },
  "orig_nbformat": 4,
  "vscode": {
   "interpreter": {
    "hash": "949777d72b0d2535278d3dc13498b2535136f6dfe0678499012e853ee9abcab1"
   }
  }
 },
 "nbformat": 4,
 "nbformat_minor": 2
}
