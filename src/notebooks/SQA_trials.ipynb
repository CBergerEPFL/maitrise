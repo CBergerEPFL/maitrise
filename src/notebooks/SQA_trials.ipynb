{
 "cells": [
  {
   "cell_type": "code",
   "execution_count": null,
   "metadata": {},
   "outputs": [],
   "source": [
    "from petastorm import make_reader\n",
    "import numpy as np\n",
    "import matplotlib.pyplot as plt\n",
    "from scipy.stats import kurtosis,pearsonr\n",
    "from scipy.signal import periodogram\n",
    "from ecgdetectors import Detectors\n",
    "import pywt\n",
    "from sklearn.metrics import confusion_matrix,auc\n",
    "import sys\n",
    "from sklearn import metrics\n",
    "import pandas as pd\n",
    "import seaborn as sn\n",
    "import os\n",
    "import warnings\n",
    "sys.path.append(os.path.join(os.getcwd(), \"..\"))\n",
    "from Metrics import TSD_cal as TSD\n",
    "from Metrics import HurstExponent as Hurst\n",
    "from shared_utils import Statistical_test_index as STTI\n",
    "from Metrics import MoRE_index_2011 as MoRE_2011\n",
    "from Metrics import ECG_Assess_2022\n",
    "from Metrics import Fiducial_metrics,Non_Fiducial_metrics,Our_SQA_method\n",
    "warnings.simplefilter(action=\"ignore\", category=RuntimeWarning)\n",
    "path_formatted_glasgow = \"/workspaces/maitrise/data/20221006_physio_quality/set-a/dataParquet\"\n",
    "path_petastorm = f\"file:///{path_formatted_glasgow}\"\n",
    "path_csv_ref_label = \"/workspaces/maitrise/data/20221006_physio_quality/set-a/REFERENCE.csv\""
   ]
  },
  {
   "cell_type": "code",
   "execution_count": null,
   "metadata": {},
   "outputs": [],
   "source": [
    "from mpl_toolkits import mplot3d\n",
    "%matplotlib widget\n",
    "def The_3D_plot_creator(Y1,Y2,Y3,correct_label,name_1,name_2,name_3,name_label_used = \"Original\",semilog = False):\n",
    "    fig = plt.figure()\n",
    "    ax = plt.axes(projection='3d')\n",
    "    for lab,col in zip([\"acceptable\",\"unacceptable\"],[\"r\",\"b\"]):\n",
    "        Y1_sel = Y1[correct_label == lab].copy()\n",
    "        Y2_sel = Y2[correct_label == lab].copy()\n",
    "        Y3_sel = Y3[correct_label == lab].copy()\n",
    "        ax.scatter3D(Y1_sel,Y2_sel,Y3_sel,color = col,label = lab,alpha = 0.3)\n",
    "    ax.legend([\"acceptable\",\"unacceptable\"])\n",
    "    ax.grid()\n",
    "    ax.set_xlabel(name_1)\n",
    "    ax.set_ylabel(name_2)\n",
    "    ax.set_zlabel(name_3)\n",
    "\n",
    "    if semilog : \n",
    "        plt.semilogy()\n",
    "    plt.title(f\"{name_1} VS {name_2} VS {name_3} with the {name_label_used} labelisation\" )\n",
    "    plt.show()\n"
   ]
  },
  {
   "cell_type": "code",
   "execution_count": null,
   "metadata": {},
   "outputs": [],
   "source": [
    "##Use of Cross validation for determining optimal Threshold wPMF: \n",
    "\n",
    "wPMF_STTI = STTI.Statistic_reader(path_petastorm,Non_Fiducial_metrics.wPMF_score,\"wPMF\",[-1,2],opposite = True)\n",
    "wPMF_STTI.CrossValidation_index_opt_thresh()\n",
    "wPMF_STTI.Optimal_threshold_calculator()\n",
    "wPMF_STTI.PR_index()\n",
    "wPMF_STTI.ROC_index()\n",
    "wPMF_STTI.Accuracy_calculator()\n",
    "wPMF_STTI.ROC_PR_curve_homemade()\n",
    "param_wPMF = wPMF_STTI.ROC_PR_curve_sklearn()\n",
    "df_wPMF =  wPMF_STTI.Classification_Report_index()"
   ]
  },
  {
   "cell_type": "code",
   "execution_count": null,
   "metadata": {},
   "outputs": [],
   "source": [
    "SNR_N_STTI = STTI.Statistic_reader(path_petastorm,Non_Fiducial_metrics.SNR_index,\"Norm SNRECG\",[-1,2],normalization= True)\n",
    "SNR_N_STTI.CrossValidation_index_opt_thresh()\n",
    "SNR_N_STTI.Optimal_threshold_calculator()\n",
    "SNR_N_STTI.ROC_index()\n",
    "SNR_N_STTI.PR_index()\n",
    "SNR_N_STTI.Accuracy_calculator()\n",
    "SNR_N_STTI.ROC_PR_curve_homemade()\n",
    "param_SNR_N = SNR_N_STTI.ROC_PR_curve_sklearn()\n",
    "df_SNR_N =  SNR_N_STTI.Classification_Report_index()"
   ]
  },
  {
   "cell_type": "code",
   "execution_count": null,
   "metadata": {},
   "outputs": [],
   "source": [
    "f_STTI = STTI.Statistic_reader(path_petastorm,Fiducial_metrics.flatline_score,\"Flatline\",[-1,2],normalization = True,opposite = True)\n",
    "f_STTI.CrossValidation_index_opt_thresh()\n",
    "f_STTI.Optimal_threshold_calculator()\n",
    "f_STTI.ROC_index()\n",
    "f_STTI.PR_index()\n",
    "f_STTI.Accuracy_calculator()\n",
    "f_STTI.ROC_PR_curve_homemade()\n",
    "param_f = f_STTI.ROC_PR_curve_sklearn()\n",
    "df_f =  f_STTI.Classification_Report_index()"
   ]
  },
  {
   "cell_type": "code",
   "execution_count": null,
   "metadata": {},
   "outputs": [],
   "source": [
    "TSD_STTI = STTI.Statistic_reader(path_petastorm,TSD.TSD_index,\"TSD\",[-1,2],normalization = True,opposite = True)\n",
    "TSD_STTI.CrossValidation_index_opt_thresh()\n",
    "TSD_STTI.Optimal_threshold_calculator()\n",
    "TSD_STTI.ROC_index()\n",
    "TSD_STTI.PR_index()\n",
    "TSD_STTI.Accuracy_calculator()\n",
    "TSD_STTI.ROC_PR_curve_homemade()\n",
    "param_TSD = TSD_STTI.ROC_PR_curve_sklearn()\n",
    "df_TSD =  TSD_STTI.Classification_Report_index()"
   ]
  },
  {
   "cell_type": "code",
   "execution_count": null,
   "metadata": {},
   "outputs": [],
   "source": [
    "M_STTI = STTI.Statistic_reader(path_petastorm,Fiducial_metrics.Morph_score,\"Intralead\",[-1,3],opposite = True)\n",
    "M_STTI.CrossValidation_index_opt_thresh()\n",
    "M_STTI.Optimal_threshold_calculator()\n",
    "M_STTI.ROC_index()\n",
    "M_STTI.PR_index()\n",
    "M_STTI.Accuracy_calculator()\n",
    "M_STTI.ROC_PR_curve_homemade()\n",
    "param_M = M_STTI.ROC_PR_curve_sklearn()\n",
    "df_M =  M_STTI.Classification_Report_index()"
   ]
  },
  {
   "cell_type": "code",
   "execution_count": null,
   "metadata": {},
   "outputs": [],
   "source": [
    "CC_STTI = STTI.Statistic_reader(path_petastorm,Fiducial_metrics.Corr_lead_score,\"Interlead\",[-1,3],opposite = True)\n",
    "CC_STTI.CrossValidation_index_opt_thresh()\n",
    "CC_STTI.Optimal_threshold_calculator()\n",
    "CC_STTI.ROC_index()\n",
    "CC_STTI.PR_index()\n",
    "CC_STTI.Accuracy_calculator()\n",
    "CC_STTI.ROC_PR_curve_homemade()\n",
    "param_CC = CC_STTI.ROC_PR_curve_sklearn()\n",
    "df_CC =  CC_STTI.Classification_Report_index()"
   ]
  },
  {
   "cell_type": "code",
   "execution_count": null,
   "metadata": {},
   "outputs": [],
   "source": [
    "K_STTI = STTI.Statistic_reader(path_petastorm,Fiducial_metrics.Kurto_score,\"Kurtosis\",[-10,30],opposite = True)\n",
    "K_STTI.CrossValidation_index_opt_thresh()\n",
    "K_STTI.Optimal_threshold_calculator()\n",
    "K_STTI.ROC_index()\n",
    "K_STTI.PR_index()\n",
    "K_STTI.Accuracy_calculator()\n",
    "#K_STTI.ROC_PR_curve_homemade()\n",
    "param_K = K_STTI.ROC_PR_curve_sklearn()"
   ]
  },
  {
   "cell_type": "code",
   "execution_count": null,
   "metadata": {},
   "outputs": [],
   "source": [
    "SQA_STTI = STTI.Statistic_reader(path_petastorm,Our_SQA_method.SQA_method_score,\"SQA\",[-1,2])\n",
    "SQA_STTI.CrossValidation_index_opt_thresh()\n",
    "SQA_STTI.Optimal_threshold_calculator()\n",
    "SQA_STTI.ROC_index()\n",
    "SQA_STTI.PR_index()\n",
    "SQA_STTI.Accuracy_calculator()\n",
    "SQA_STTI.ROC_PR_curve_homemade()\n",
    "param_SQA = SQA_STTI.ROC_PR_curve_sklearn()\n",
    "df_SQA =  SQA_STTI.Classification_Report_index()"
   ]
  },
  {
   "cell_type": "code",
   "execution_count": null,
   "metadata": {},
   "outputs": [],
   "source": [
    "##Model with feature selection made on original data : \n",
    "MRegu_STTI = STTI.Statistic_reader(path_petastorm,Our_SQA_method.Model_regularization,\"L2 Regularization\",[-1,3])\n",
    "MRegu_STTI.CrossValidation_index_opt_thresh()\n",
    "MRegu_STTI.Optimal_threshold_calculator()\n",
    "MRegu_STTI.ROC_index()\n",
    "MRegu_STTI.PR_index()\n",
    "MRegu_STTI.Accuracy_calculator()\n",
    "MRegu_STTI.ROC_PR_curve_homemade()\n",
    "param_MRegu = MRegu_STTI.ROC_PR_curve_sklearn()\n",
    "df_SQANTSD =  MRegu_STTI.Classification_Report_index()"
   ]
  },
  {
   "cell_type": "code",
   "execution_count": null,
   "metadata": {},
   "outputs": [],
   "source": [
    "MJMIMI_STTI = STTI.Statistic_reader(path_petastorm,Our_SQA_method.Model_MI,\"JMI/MI features selection\",[-1,3])\n",
    "MJMIMI_STTI.CrossValidation_index_opt_thresh()\n",
    "MJMIMI_STTI.Optimal_threshold_calculator()\n",
    "MJMIMI_STTI.ROC_index()\n",
    "MJMIMI_STTI.PR_index()\n",
    "MJMIMI_STTI.Accuracy_calculator()\n",
    "MJMIMI_STTI.ROC_PR_curve_homemade()\n",
    "param_MJMIMI = MJMIMI_STTI.ROC_PR_curve_sklearn()\n",
    "df_MJMIMI =  MJMIMI_STTI.Classification_Report_index()"
   ]
  },
  {
   "cell_type": "code",
   "execution_count": null,
   "metadata": {},
   "outputs": [],
   "source": [
    "HR_STTI = STTI.Statistic_reader(path_petastorm,Fiducial_metrics.HR_index_calculator,\"HR\",[-1,5],evaluation = \"minimum\")\n",
    "HR_STTI.CrossValidation_index_opt_thresh()\n",
    "HR_STTI.Optimal_threshold_calculator()\n",
    "HR_STTI.ROC_index()\n",
    "HR_STTI.PR_index()\n",
    "HR_STTI.Accuracy_calculator()\n",
    "HR_STTI.ROC_PR_curve_homemade()\n",
    "param_HR = HR_STTI.ROC_PR_curve_sklearn()\n",
    "df_HR =  HR_STTI.Classification_Report_index()"
   ]
  },
  {
   "cell_type": "code",
   "execution_count": null,
   "metadata": {},
   "outputs": [],
   "source": [
    "MoRE_STTI = STTI.Statistic_reader(path_petastorm,MoRE_2011.MoRE_score,\"MoRE\",[0,100])\n",
    "MoRE_STTI.CrossValidation_index_opt_thresh()\n",
    "MoRE_STTI.Optimal_threshold_calculator()\n",
    "MoRE_STTI.ROC_index()\n",
    "MoRE_STTI.PR_index()\n",
    "MoRE_STTI.Accuracy_calculator()\n",
    "param_MoRE = MoRE_STTI.ROC_PR_curve_sklearn()\n",
    "MoRE_STTI.ROC_PR_curve_homemade()\n"
   ]
  },
  {
   "cell_type": "code",
   "execution_count": null,
   "metadata": {},
   "outputs": [],
   "source": [
    "ECGASSESS_STTI = STTI.Statistic_reader(path_petastorm,ECG_Assess_2022.processing,\"ECGASSESS\",[-1,5])\n",
    "ECGASSESS_STTI.CrossValidation_index_opt_thresh()\n",
    "ECGASSESS_STTI.Optimal_threshold_calculator()\n",
    "ECGASSESS_STTI.ROC_index()\n",
    "ECGASSESS_STTI.PR_index()\n",
    "ECGASSESS_STTI.Accuracy_calculator()\n",
    "ECGASSESS_STTI.ROC_PR_curve_homemade()\n",
    "param_ECGASSESS = ECGASSESS_STTI.ROC_PR_curve_sklearn()"
   ]
  },
  {
   "cell_type": "code",
   "execution_count": null,
   "metadata": {},
   "outputs": [],
   "source": [
    "##Now to get the overall Training and Testing PR and ROC curve for all the indexes : \n",
    "\n",
    "get_name_dict = list(param_wPMF.keys())\n",
    "\n",
    "name = [\"wPMF\",\"SNRECG\",\"TSD\",\"Flatline\",\"HR\",\"Intralead\",\"Interlead\",\"SQA\"]\n",
    "dic_gen = {name[0] : param_wPMF,name[1]:param_SNR_N,name[2]:param_TSD,name[3]:param_f,name[4]:param_HR,name[5]:param_M,name[6]:param_CC,name[7]:param_SQA}\n",
    "\n",
    "\n",
    "fig,ax = plt.subplots(nrows = 2,ncols = 1,figsize= (15,15))\n",
    "\n",
    "##Training Graphs : both PR and ROC :\n",
    "\n",
    "x = np.linspace(0,1,200)\n",
    "color = iter(plt.cm.rainbow(np.linspace(0, 1, len(name))))\n",
    "\n",
    "for na,i in zip(name,range(len(name))) : \n",
    "    c = next(color)\n",
    "\n",
    "    FPR_test_ind = dic_gen[na][get_name_dict[0]][0,:]\n",
    "    TPR_test_ind = dic_gen[na][get_name_dict[0]][1,:]\n",
    "    PREC_test_ind = dic_gen[na][get_name_dict[1]][1,:]\n",
    "    REC_test_ind = dic_gen[na][get_name_dict[1]][0,:]\n",
    "\n",
    "    auc_test_roc_ind = dic_gen[na][get_name_dict[2]]\n",
    "    auc_test_roc_std = dic_gen[na][get_name_dict[3]]\n",
    "    auc_test_pr_ind = dic_gen[na][get_name_dict[4]]\n",
    "    auc_test_pr_std = dic_gen[na][get_name_dict[5]]\n",
    "    \n",
    "    ax[0].plot(FPR_test_ind,TPR_test_ind,color = c,label = \"{} : AUC = {:.2f}(+- {:.2f})\".format(na,auc_test_roc_ind,auc_test_roc_std))\n",
    "    ax[1].plot(REC_test_ind,PREC_test_ind,color = c,label = \"{} : AUC = {:.2f}(+- {:.2f})\".format(na,auc_test_pr_ind,auc_test_pr_std))\n",
    "\n",
    "\n",
    "ax[0].plot(x,x,\"--k\",label = \"Reference line\")\n",
    "ax[0].set_xlabel(\"False Positive Rate\")\n",
    "ax[0].set_ylabel(\"True Positive Rate\")\n",
    "ax[0].set_title(f\"Testing mean ROC Curve for all indexes created \")\n",
    "ax[0].legend(loc = 4)\n",
    "ax[0].grid()\n",
    "\n",
    "ax[1].plot(x,np.zeros_like(x),\"--k\",label = \"Reference line\")\n",
    "ax[1].set_xlabel(\"Recall\")\n",
    "ax[1].set_ylabel(\"Precision\")\n",
    "ax[1].set_title(f\"Testing mean PR Curve for all indexes created \")\n",
    "ax[1].legend(loc = 4)\n",
    "ax[1].grid()\n",
    "#bbox_to_anchor=(1.04, 1), loc=\"upper left\"\n",
    "plt.show()\n",
    "\n",
    "\n",
    "\n"
   ]
  },
  {
   "cell_type": "code",
   "execution_count": null,
   "metadata": {},
   "outputs": [],
   "source": [
    "##Generalized previous function : \n",
    "\n",
    "def ROC_PR_printer_class(dico_class):\n",
    "    fig,ax = plt.subplots(nrows = 1,ncols = 2,figsize= (15,10))\n",
    "    ##Training Graphs : both PR and ROC : \n",
    "    x = np.linspace(0,1,200)\n",
    "    color = iter(plt.cm.rainbow(np.linspace(0, 1, len(list(dico_class.keys())))))\n",
    "    for na,i in zip(list(dico_class.keys()),range(len(list(dico_class.keys())))) : \n",
    "        c = next(color)\n",
    "        FPR_test_ind = dico_class[na][get_name_dict[0]][0,:]\n",
    "        TPR_test_ind = dico_class[na][get_name_dict[0]][1,:]\n",
    "        PREC_test_ind = dico_class[na][get_name_dict[1]][1,:]\n",
    "        REC_test_ind = dico_class[na][get_name_dict[1]][0,:]\n",
    "\n",
    "        auc_test_roc_ind = dico_class[na][get_name_dict[2]]\n",
    "        auc_test_roc_std = dico_class[na][get_name_dict[3]]\n",
    "        auc_test_pr_ind = dico_class[na][get_name_dict[4]]\n",
    "        auc_test_pr_std = dico_class[na][get_name_dict[5]]\n",
    "    \n",
    "        ax[0].plot(FPR_test_ind,TPR_test_ind,color = c,label = \"{} : AUC = {:.2f}(+- {:.2f})\".format(na,auc_test_roc_ind,auc_test_roc_std))\n",
    "        ax[1].plot(REC_test_ind,PREC_test_ind,color = c,label = \"{} : AUC = {:.2f}(+- {:.2f})\".format(na,auc_test_pr_ind,auc_test_pr_std))\n",
    "\n",
    "\n",
    "\n",
    "    ax[0].plot(x,x,\"--k\",label = \"Reference line\")\n",
    "    ax[0].set_xlabel(\"False Positive Rate\")\n",
    "    ax[0].set_ylabel(\"True Positive Rate\")\n",
    "    ax[0].set_title(f\"Testing mean ROC Curve for all indexes created \")\n",
    "    ax[0].legend(loc = 4)\n",
    "    ax[0].grid()\n",
    "\n",
    "    ax[1].plot(x,np.zeros_like(x),\"--k\",label = \"Reference line\")\n",
    "    ax[1].set_xlabel(\"Recall\")\n",
    "    ax[1].set_ylabel(\"Precision\")\n",
    "    ax[1].set_title(f\"Testing mean PR Curve for all indexes created \")\n",
    "    ax[1].legend(loc = 4)\n",
    "    ax[1].grid()\n",
    "    #bbox_to_anchor=(1.04, 1), loc=\"upper left\"\n",
    "    plt.show()\n"
   ]
  },
  {
   "cell_type": "code",
   "execution_count": null,
   "metadata": {},
   "outputs": [],
   "source": [
    "get_name_dict = list(param_SQA.keys())\n",
    "\n",
    "name = [\"SQA\",\"Model L2 Regularization\",\"JMI/MI features selection\"]\n",
    "dic_gen = {name[0] : param_SQA,name[1]:param_MRegu,name[2]:param_MJMIMI}\n",
    "ROC_PR_printer_class(dic_gen)\n"
   ]
  }
 ],
 "metadata": {
  "kernelspec": {
   "display_name": "Python 3.10.6 64-bit",
   "language": "python",
   "name": "python3"
  },
  "language_info": {
   "codemirror_mode": {
    "name": "ipython",
    "version": 3
   },
   "file_extension": ".py",
   "mimetype": "text/x-python",
   "name": "python",
   "nbconvert_exporter": "python",
   "pygments_lexer": "ipython3",
   "version": "3.10.8"
  },
  "vscode": {
   "interpreter": {
    "hash": "949777d72b0d2535278d3dc13498b2535136f6dfe0678499012e853ee9abcab1"
   }
  }
 },
 "nbformat": 4,
 "nbformat_minor": 2
}
