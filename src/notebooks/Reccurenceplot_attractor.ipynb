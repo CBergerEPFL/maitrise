{
 "cells": [
  {
   "cell_type": "code",
   "execution_count": null,
   "metadata": {},
   "outputs": [],
   "source": [
    "import numpy as np\n",
    "import matplotlib.pyplot as plt\n",
    "import matplotlib.ticker as ticker\n",
    "from matplotlib.widgets import TextBox, Button\n",
    "import sys\n",
    "import pandas as pd\n",
    "import os\n",
    "import hfda\n",
    "import desolver.backend as D\n",
    "from pyts.image import RecurrencePlot\n",
    "from petastorm import make_reader\n"
   ]
  },
  {
   "cell_type": "code",
   "execution_count": null,
   "metadata": {},
   "outputs": [],
   "source": [
    "\n",
    "def system_coordinates_reader(Path_to_data,Attractor_name,num_attractor=0):\n",
    "    path = Path_to_data+f\"/{Attractor_name}_attractors\"\n",
    "    df = pd.read_csv(path + f\"/{Attractor_name}__{num_attractor}.csv\")\n",
    "    df_n = df.to_numpy()\n",
    "    xyzs = df_n[:,1:4]\n",
    "    t = df_n[:,0]\n",
    "    return xyzs,t\n",
    "\n",
    "Path = \"/workspaces/maitrise/data\"\n",
    "xyzs,t = system_coordinates_reader(Path,\"lorenz\",0)"
   ]
  },
  {
   "cell_type": "code",
   "execution_count": null,
   "metadata": {},
   "outputs": [],
   "source": [
    "def Plot_attractors(xyzs_attractor):\n",
    "    ax = plt.figure().add_subplot(projection='3d')\n",
    "\n",
    "    ax.plot(*xyzs_attractor.T, lw=0.5)\n",
    "    ax.set_xlabel(\"X Axis\")\n",
    "    ax.set_ylabel(\"Y Axis\")\n",
    "    ax.set_zlabel(\"Z Axis\")\n",
    "    ax.set_title(\"lorenz Attractor\")\n",
    "\n",
    "    plt.show()"
   ]
  },
  {
   "cell_type": "code",
   "execution_count": null,
   "metadata": {},
   "outputs": [],
   "source": [
    "Plot_attractors(xyzs)\n",
    "print(xyzs.T.shape)"
   ]
  },
  {
   "cell_type": "code",
   "execution_count": null,
   "metadata": {},
   "outputs": [],
   "source": [
    "transformer = RecurrencePlot(threshold = 6)\n",
    "#X_new = transformer.transform(xyzs[:,0].reshape(1, -1))\n",
    "X_new = transformer.transform(xyzs.T)"
   ]
  },
  {
   "cell_type": "code",
   "execution_count": null,
   "metadata": {},
   "outputs": [],
   "source": [
    "fig = plt.figure(figsize=(6, 6))\n",
    "\n",
    "gs = fig.add_gridspec(2, 2,  width_ratios=(2, 7), height_ratios=(2, 7),\n",
    "                      left=0.1, right=0.9, bottom=0.1, top=0.9,\n",
    "                      wspace=0.05, hspace=0.05)\n",
    "\n",
    "# Define the ticks and their labels for both axes\n",
    "x = xyzs[:,0]\n",
    "fs = 1/(t[1]-t[0])\n",
    "time_points = t\n",
    "# Plot the time series on the left with inverted axes\n",
    "ax_left = fig.add_subplot(gs[1, 0])\n",
    "ax_left.grid()\n",
    "ax_left.plot(x, time_points)\n",
    "ax_left.invert_xaxis()\n",
    "\n",
    "# Plot the time series on the top\n",
    "ax_top = fig.add_subplot(gs[0, 1])\n",
    "ax_top.plot(time_points, x)\n",
    "ax_top.grid()\n",
    "ax_top.xaxis.tick_top()\n",
    "\n",
    "# Plot the recurrence plot on the bottom right\n",
    "ax_rp = fig.add_subplot(gs[1, 1])\n",
    "im = ax_rp.imshow(X_new[0,:,:], cmap='binary', origin='lower',\n",
    "             extent=[0,t[-1], 0, t[-1]])#extent=[0, 4 * np.pi, 0, 4 * np.pi])\n",
    "plt.colorbar(im, ax=ax_rp)\n",
    "ax_rp.set_xticks([])\n",
    "ax_rp.set_yticks([])\n",
    "\n",
    "\n",
    "plt.show()"
   ]
  },
  {
   "cell_type": "code",
   "execution_count": null,
   "metadata": {},
   "outputs": [],
   "source": [
    "fig,ax = plt.subplots(nrows = 2,ncols = 1,figsize=(20,20), gridspec_kw={'height_ratios': [1, 2]})\n",
    "x = xyzs[:,0]\n",
    "ax[0].plot(t,x)\n",
    "ax[0].set_xlabel(\"Time (sec)\")\n",
    "ax[0].set_ylabel(\"x(t) amplitude\")\n",
    "ax[0].set_title(\"Lorenz x(t) amplitude\")\n",
    "#ax[0].set_xlim([3,15])\n",
    "ax[0].grid()\n",
    "im = ax[1].imshow(X_new[0,:,:], cmap='binary', origin='lower',\n",
    "             extent=[0,t[-1], 0, t[-1]])\n",
    "ax[1].set_xlabel(\"Time (sec)\")\n",
    "ax[1].set_ylabel(\"Time (sec\")\n",
    "ax[1].set_title(\"Recurrence plot\")\n",
    "#ax[1].set_xlim([3,15])\n",
    "#ax[1].set_ylim([3,15])\n",
    "\n",
    "plt.colorbar(im, ax=ax[1])\n",
    "plt.show()"
   ]
  }
 ],
 "metadata": {
  "kernelspec": {
   "display_name": "Python 3.10.6 64-bit",
   "language": "python",
   "name": "python3"
  },
  "language_info": {
   "codemirror_mode": {
    "name": "ipython",
    "version": 3
   },
   "file_extension": ".py",
   "mimetype": "text/x-python",
   "name": "python",
   "nbconvert_exporter": "python",
   "pygments_lexer": "ipython3",
   "version": "3.10.6"
  },
  "vscode": {
   "interpreter": {
    "hash": "949777d72b0d2535278d3dc13498b2535136f6dfe0678499012e853ee9abcab1"
   }
  }
 },
 "nbformat": 4,
 "nbformat_minor": 2
}
