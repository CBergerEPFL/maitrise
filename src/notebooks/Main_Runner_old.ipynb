{
 "cells": [
  {
   "cell_type": "code",
   "execution_count": null,
   "metadata": {},
   "outputs": [],
   "source": [
    "from petastorm import make_reader\n",
    "import numpy as np\n",
    "import matplotlib.pyplot as plt\n",
    "import sys\n",
    "import pandas as pd\n",
    "import os\n",
    "sys.path.append(os.path.join(os.getcwd(), \"..\"))\n",
    "from Metrics import Wrapper_main_function\n",
    "path_formatted_glasgow = \"/workspaces/maitrise/data/20221006_physio_quality/set-a/dataParquet\"\n",
    "path_dataset= f\"file:///{path_formatted_glasgow}\"\n",
    "path_csv_ref_label = \"/workspaces/maitrise/data/20221006_physio_quality/set-a/REFERENCE.csv\""
   ]
  },
  {
   "cell_type": "code",
   "execution_count": null,
   "metadata": {},
   "outputs": [],
   "source": [
    "label_ref = pd.read_csv(path_csv_ref_label)\n",
    "label_ref = label_ref.to_numpy()\n",
    "Y = label_ref[:,1].copy()\n",
    "Y_true = Y[Y.copy()!=\"unlabeled\"]\n",
    "X_true = label_ref[:,0].copy()\n",
    "X_true = X_true[Y!=\"unlabeled\"].astype(int)"
   ]
  },
  {
   "cell_type": "markdown",
   "metadata": {},
   "source": [
    "### First load your dataset (output variables : numpy array [n_patients,n_leads,signal_length])\n"
   ]
  },
  {
   "cell_type": "code",
   "execution_count": null,
   "metadata": {},
   "outputs": [],
   "source": [
    "\n",
    "len_patients = 998 ## patients have undetermined label for the 2011 physionet dataset\n",
    "len_lead = 12\n",
    "Data = np.empty([len_patients,len_lead,5000])\n",
    "index_patient  = np.array([])\n",
    "ind = 0\n",
    "\n",
    "with make_reader(path_dataset) as reader:\n",
    "    for sample in reader:\n",
    "        data = sample\n",
    "        if data.signal_quality == \"unlabeled\".encode():\n",
    "            continue\n",
    "        else :\n",
    "            ECG_lead = sample.signal_names\n",
    "            fs = sample.sampling_frequency\n",
    "            status = int(sample.noun_id)\n",
    "            index_patient = np.append(index_patient,status)\n",
    "            dico_ECG = np.zeros([len(ECG_lead),sample.signal.shape[0]])\n",
    "            for i in range(len(sample.signal_names)):\n",
    "                dico_ECG[i,:] = sample.signal[:,i]\n",
    "            Data[ind,:,:] = dico_ECG\n",
    "            ind += 1\n",
    "\n",
    "Data = Data[np.argsort(index_patient),:,:]##ordered your data with your label"
   ]
  },
  {
   "cell_type": "markdown",
   "metadata": {},
   "source": [
    "### Second : Use the main function to get the feautres for each of your patient)\n",
    "### Output : numpy array [n_patients,n_lead,n_features]"
   ]
  },
  {
   "cell_type": "code",
   "execution_count": null,
   "metadata": {},
   "outputs": [],
   "source": [
    "name_method = [\"Corr_interlead\",\"Corr_intralead\"]\n",
    "Matrix_features = np.empty([len(index_patient),len_lead,len(name_method)])\n",
    "\n",
    "for j in range(Matrix_features.shape[0]):\n",
    "    Patient = Data[j,:,:]\n",
    "    Matrix_features[j,:,:] = Wrapper_main_function.main(Patient,fs,name_method)\n"
   ]
  }
 ],
 "metadata": {
  "kernelspec": {
   "display_name": "Python 3.10.8 ('.venv': venv)",
   "language": "python",
   "name": "python3"
  },
  "language_info": {
   "codemirror_mode": {
    "name": "ipython",
    "version": 3
   },
   "file_extension": ".py",
   "mimetype": "text/x-python",
   "name": "python",
   "nbconvert_exporter": "python",
   "pygments_lexer": "ipython3",
   "version": "3.10.8"
  },
  "orig_nbformat": 4,
  "vscode": {
   "interpreter": {
    "hash": "8b09725727ea5c946a6e235c29bf2350c6a48df4dcf1449bc262f718902f58bb"
   }
  }
 },
 "nbformat": 4,
 "nbformat_minor": 2
}
