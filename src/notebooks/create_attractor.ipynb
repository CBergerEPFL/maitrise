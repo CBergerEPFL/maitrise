{
 "cells": [
  {
   "cell_type": "code",
   "execution_count": null,
   "metadata": {},
   "outputs": [],
   "source": [
    "import os\n",
    "\n",
    "import numpy as np\n",
    "import pandas as pd\n",
    "from tqdm import tqdm_notebook\n",
    "from joblib import delayed\n",
    "from IPython.display import clear_output\n",
    "import sys\n",
    "sys.path.append(os.path.join(os.getcwd(), \"..\"))\n",
    "\n",
    "from attractor_creation.attractor_generator import Attractor_Generator\n",
    "from shared_utils.utils_parallel import ParallelExecutor\n",
    "\n",
    "CWD = os.getcwd()"
   ]
  },
  {
   "cell_type": "code",
   "execution_count": null,
   "metadata": {},
   "outputs": [],
   "source": [
    "high_noise = {\n",
    "    \"chua\": 0.01,\n",
    "    \"duffing\": 1.5,\n",
    "    \"lorenz\": 0.5,\n",
    "    \"lotka_volterra\": 1.0,\n",
    "    \"nose_hover\": 1.0,\n",
    "    \"rikitake\": 0.5,\n",
    "    \"rossler\": 1.,\n",
    "    \"random_noise3d\": 1.0,\n",
    "    \"becker\": 0.5\n",
    "}"
   ]
  },
  {
   "cell_type": "code",
   "execution_count": null,
   "metadata": {},
   "outputs": [],
   "source": [
    "def generate_series(name, start_idx, save_path, i):\n",
    "    attractors = Attractor_Generator()\n",
    "    # w = np.random.uniform(low=1e-12, high=0.01)\n",
    "    w = np.random.uniform(low=0.01, high=high_noise[name])\n",
    "    attractors.compute_attractor(\n",
    "        attractor=name, x0=0.6 + w, y0=0.2 + w, z0=0.1 + w, dt=0.01, num_steps=3500)\n",
    "    attractors.coordinates = attractors.coordinates[start_idx:,:]\n",
    "    attractors.t = attractors.t[start_idx:]\n",
    "    # results = attractors.get_data()\n",
    "\n",
    "    attractors.generate_data_file(path=save_path, filename=name + \"__\" + str(i))"
   ]
  },
  {
   "cell_type": "code",
   "execution_count": null,
   "metadata": {},
   "outputs": [],
   "source": [
    "nb_simulation = 100\n",
    "\n",
    "attractors_concerned = [\"lorenz\",\"rossler\"]\n",
    "for attract in attractors_concerned:\n",
    "    save_path = os.path.join(CWD, \"..\",\"..\",\"data\", f\"{attract}_attractors\")\n",
    "    if not os.path.exists(save_path):\n",
    "        os.makedirs(save_path)\n",
    "\n",
    "    aprun = ParallelExecutor(n_jobs=-1)\n",
    "    aprun(total=nb_simulation)(\n",
    "                delayed(generate_series)(attract, 300, save_path,i) for i in range(nb_simulation)\n",
    "            )\n",
    "            \n",
    "clear_output()"
   ]
  }
 ],
 "metadata": {
  "kernelspec": {
   "display_name": "Python 3.10.6 64-bit",
   "language": "python",
   "name": "python3"
  },
  "language_info": {
   "codemirror_mode": {
    "name": "ipython",
    "version": 3
   },
   "file_extension": ".py",
   "mimetype": "text/x-python",
   "name": "python",
   "nbconvert_exporter": "python",
   "pygments_lexer": "ipython3",
   "version": "3.10.6"
  },
  "vscode": {
   "interpreter": {
    "hash": "949777d72b0d2535278d3dc13498b2535136f6dfe0678499012e853ee9abcab1"
   }
  }
 },
 "nbformat": 4,
 "nbformat_minor": 2
}
