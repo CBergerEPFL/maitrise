{
 "cells": [
  {
   "cell_type": "code",
   "execution_count": null,
   "metadata": {},
   "outputs": [],
   "source": [
    "from petastorm import make_reader\n",
    "import numpy as np\n",
    "import matplotlib.pyplot as plt\n",
    "import pandas as pd\n",
    "import os\n",
    "import sys\n",
    "import desolver.backend as D\n",
    "from math import isnan\n",
    "from numba import njit,prange\n",
    "sys.path.append(os.path.join(os.getcwd(), \"..\"))\n",
    "path_formatted_glasgow = \"/workspaces/maitrise/data/20221006_physio_quality/set-a/dataParquet\"\n",
    "path_petastorm = f\"file:///{path_formatted_glasgow}\"\n"
   ]
  },
  {
   "cell_type": "code",
   "execution_count": null,
   "metadata": {},
   "outputs": [],
   "source": [
    "##Let's re write each function in a numba compatible version:\n",
    "\n",
    "@njit\n",
    "def taux_Mean_fast(signal, taux, hprime, h=0):\n",
    "    return np.mean((signal[int(h + taux) : int(taux + hprime + h)]))\n",
    "\n",
    "@njit\n",
    "def taux_var_fast(signal, taux, hprime, h=0):\n",
    "    return np.var(signal[int(h + taux) : int(taux + hprime + h)])\n",
    "\n",
    "@njit(parallel = True)\n",
    "\n",
    "def adapted_c(c_val,fs,h,hprime,signal):\n",
    "    for l in c_val:\n",
    "        if (\n",
    "            l * fs + hprime * len(signal) + h * len(signal) > len(signal)\n",
    "            and l * fs + h * len(signal) > len(signal) - 1\n",
    "        ):\n",
    "            c = c_val[c_val < l]\n",
    "            break\n",
    "    return c\n",
    "\n"
   ]
  },
  {
   "cell_type": "code",
   "execution_count": null,
   "metadata": {},
   "outputs": [],
   "source": [
    "##signal trial\n",
    "\n",
    "with make_reader(path_petastorm) as reader:\n",
    "    for sample in reader:\n",
    "        data = sample\n",
    "        if data.signal_quality == \"acceptable\".encode():\n",
    "            break\n",
    "        else : \n",
    "            pass\n",
    "\n",
    "ECG_signal = data.signal\n",
    "ECG_lead = data.signal_names\n",
    "fs = data.sampling_frequency\n",
    "\n",
    "dico_ECG = {}\n",
    "\n",
    "for i,j in zip(ECG_lead,range(12)):\n",
    "     dico_ECG[i] = ECG_signal[:,j]\n",
    "\n",
    "print(len(dico_ECG))"
   ]
  },
  {
   "cell_type": "code",
   "execution_count": null,
   "metadata": {},
   "outputs": [],
   "source": [
    "###Let's give them a try\n",
    "\n",
    "h = 0.001\n",
    "hprime = 0.005\n",
    "sig = dico_ECG[ECG_lead[0]]\n",
    "c = np.arange(0, (len(sig) / fs) + 0, 1 / fs,dtype = np.float64)\n",
    "c_t = adapted_c(c,fs,h,hprime,sig.copy())\n",
    "print(c_t)"
   ]
  },
  {
   "cell_type": "code",
   "execution_count": null,
   "metadata": {},
   "outputs": [],
   "source": [
    "##Now for the big shot:\n",
    "@njit\n",
    "def I1(c, signal, fs, h, hprime, step_c, t0=0):\n",
    "    tab = np.zeros_like(c)\n",
    "    for count in prange(len(tab)):\n",
    "        if count ==0:\n",
    "            I1c = (\n",
    "                (1 / (h * len(signal)))\n",
    "                * step_c\n",
    "                * np.abs(\n",
    "                    taux_Mean_fast(signal, t0 * fs, hprime * len(signal), h * len(signal))\n",
    "                    - taux_Mean_fast(signal, t0 * fs, hprime * len(signal))\n",
    "                )\n",
    "            )\n",
    "            tab[count] = I1c\n",
    "        else : \n",
    "            I1c = tab[count-1]\n",
    "            I1c = I1c + (\n",
    "                (1 / (h * len(signal)))\n",
    "                * step_c\n",
    "                * np.abs(\n",
    "                    taux_Mean_fast(signal, t0 * fs, hprime * len(signal), h * len(signal))\n",
    "                    - taux_Mean_fast(signal, t0 * fs, hprime * len(signal))\n",
    "                )\n",
    "            )\n",
    "            tab[count] = I1c\n",
    "    return tab[:-1]\n",
    "\n",
    "@njit\n",
    "def I2(c, signal, fs, h, hprime, step_c, t0=0):\n",
    "    tab = np.zeros_like(c)\n",
    "    for count in prange(len(tab)):\n",
    "        if count ==0:\n",
    "            I1c = (\n",
    "                (1 / (h * len(signal)))\n",
    "                * step_c\n",
    "                * np.abs(\n",
    "                    taux_var_fast(signal, t0 * fs, hprime * len(signal), h * len(signal))\n",
    "                    - taux_var_fast(signal, t0 * fs, hprime * len(signal))\n",
    "                )\n",
    "            )\n",
    "            tab[count] = I1c\n",
    "        else : \n",
    "            I1c = tab[count-1]\n",
    "            I1c = I1c + (\n",
    "                (1 / (h * len(signal)))\n",
    "                * step_c\n",
    "                * np.abs(\n",
    "                    taux_var_fast(signal, t0 * fs, hprime * len(signal), h * len(signal))\n",
    "                    - taux_var_fast(signal, t0 * fs, hprime * len(signal))\n",
    "                )\n",
    "            )\n",
    "            tab[count] = I1c\n",
    "    return tab[:-1]"
   ]
  },
  {
   "cell_type": "code",
   "execution_count": null,
   "metadata": {},
   "outputs": [],
   "source": [
    "##Trial : \n",
    "\n",
    "I1_t = I1(c_t,sig,fs,h,hprime,1/fs)\n",
    "print(I1_t)"
   ]
  },
  {
   "cell_type": "code",
   "execution_count": null,
   "metadata": {},
   "outputs": [],
   "source": [
    "###Now let's create the main runner : \n",
    "@njit\n",
    "def discrepancies_mean_curve(signal_tot, fs, h, hprime, step, t0=0):\n",
    "    c1 = np.arange(t0, (len(signal_tot) / fs) + t0, step,dtype = np.float64)\n",
    "    c_adapted = adapted_c(c1,fs,h,hprime,signal_tot)\n",
    "    I1_t = I1(c_adapted, signal_tot, fs, h, hprime, step, t0)\n",
    "    I2_t = I2(c_adapted, signal_tot, fs, h, hprime, step, t0)\n",
    "    return I1_t, I2_t, c_adapted"
   ]
  },
  {
   "cell_type": "code",
   "execution_count": null,
   "metadata": {},
   "outputs": [],
   "source": [
    "##Test : \n",
    "\n",
    "I1_test,I2_test,c = discrepancies_mean_curve(sig,fs,h,hprime,1/fs)"
   ]
  },
  {
   "cell_type": "code",
   "execution_count": null,
   "metadata": {},
   "outputs": [],
   "source": [
    "##Der interval calculator for each lead \n",
    "@njit\n",
    "def Interval_calculator_lead_fast(signal, fs, t0=0):\n",
    "    h = 0.001\n",
    "    hprime = 0.005\n",
    "    c1 = np.arange(t0, (len(signal) / fs) + t0, 1/fs)\n",
    "    c_adapted = adapted_c(c1,fs,h,hprime,signal)\n",
    "    I1c = I1(c_adapted, signal, fs, h, hprime, 1/fs, t0)\n",
    "    I2c = I2(c_adapted, signal, fs, h, hprime, 1/fs, t0)\n",
    "    c1 = c[np.where(I1c < 0.001)]\n",
    "    c2 = c[np.where(I2c < 0.5)]\n",
    "    print(c2)\n",
    "    cs = np.minimum(c1[-1], c2[-1])\n",
    "    dic_segment_lead = (cs - t0) * fs\n",
    "    return dic_segment_lead"
   ]
  },
  {
   "cell_type": "code",
   "execution_count": null,
   "metadata": {},
   "outputs": [],
   "source": [
    "##Test : \n",
    "optimal_test = Interval_calculator_lead_fast(sig,fs)\n",
    "print(optimal_test)"
   ]
  },
  {
   "cell_type": "code",
   "execution_count": null,
   "metadata": {},
   "outputs": [],
   "source": [
    "##Now for all The lead :\n",
    "\n",
    "def Interval_calculator_all(dico_signal, name_signal, fs):\n",
    "    dic_segment_lead = {}\n",
    "    for i in name_signal:\n",
    "        dic_segment_lead[i] = int(Interval_calculator_lead_fast(dico_signal[i], fs))\n",
    "    return dic_segment_lead"
   ]
  },
  {
   "cell_type": "code",
   "execution_count": null,
   "metadata": {},
   "outputs": [],
   "source": [
    "##Test : \n",
    "dic_segment_lead = Interval_calculator_all(dico_ECG,ECG_lead,fs)\n",
    "print(dic_segment_lead)"
   ]
  },
  {
   "cell_type": "code",
   "execution_count": null,
   "metadata": {},
   "outputs": [],
   "source": [
    "##Now the element of the TSD:\n",
    "\n",
    "from numpy import int64\n",
    "\n",
    "\n",
    "@njit\n",
    "def Lm_q(signal1, m, k, fs):\n",
    "    N = len(signal1)\n",
    "    n = np.floor((N - m) / k)\n",
    "    norm = (N - 1) / (n * k * (1 / fs))\n",
    "    #sum = np.sum(np.abs(np.diff(signal1[m::k], n=1)))\n",
    "    sum = 0\n",
    "    for i in prange(1,n):\n",
    "        sum = sum + np.absolute(signal1[m+i*k]-signal1[m+(i-1)*k])\n",
    "    Lmq = (sum * norm) / k\n",
    "    return Lmq\n",
    "@njit\n",
    "def Lq_k(signal, k, fs):\n",
    "    #calc_L_series = np.frompyfunc(lambda m: Lm_q(signal, m, k, fs), 1, 1)\n",
    "    calc_L_series = np.zeros(k)\n",
    "    for m in prange(1,k+1):\n",
    "        calc_L_series[m-1] = Lm_q(signal,m,k,fs)\n",
    "    L_average = np.mean(calc_L_series)\n",
    "    return L_average"
   ]
  },
  {
   "cell_type": "code",
   "execution_count": null,
   "metadata": {},
   "outputs": [],
   "source": [
    "###THE true challenge : \n",
    "@njit\n",
    "def TSD_mean_calculator_fast(signal2,segment_length,fs):\n",
    "    Ds = np.zeros(int(len(signal2)-segment_length))\n",
    "    for w in prange(1,int(len(signal2)-segment_length)):\n",
    "        sig_true = signal2[int((w - 1)): int((w)+segment_length)]\n",
    "        L1 = Lq_k(sig_true, 1, fs)\n",
    "        L2 = Lq_k(sig_true,2,fs)\n",
    "        Ds[w] = (np.log(L1) - np.log(L2)) / (np.log(2))\n",
    "    return np.mean(Ds), np.std(Ds)\n",
    "\n",
    "    "
   ]
  },
  {
   "cell_type": "code",
   "execution_count": null,
   "metadata": {},
   "outputs": [],
   "source": [
    "##Test :\n",
    "val,_ = TSD_mean_calculator_fast(sig,2500,fs)\n",
    "print(val)\n",
    "\n",
    "##Comparison : \n",
    "def TSD_mean_calculator(signal,segment_length,fs,k=1):\n",
    "\n",
    "    X = np.c_[[signal[int((w - 1)): int((w)+segment_length)] for w in range(1, int(len(signal)-segment_length),k)]]\n",
    "    L1 = np.array([Lq_k(X[i, :], 1, fs) for i in range(X.shape[0])])\n",
    "    L2 = np.array([Lq_k(X[i, :], 2,fs) for i in range(X.shape[0])])\n",
    "    Ds = (np.log(L1) - np.log(L2)) / (np.log(2))\n",
    "    return np.mean(Ds), np.std(Ds)\n",
    "val_c,_ = TSD_mean_calculator(sig,2500,fs)\n",
    "print(val_c)\n",
    "\n"
   ]
  },
  {
   "cell_type": "code",
   "execution_count": null,
   "metadata": {},
   "outputs": [],
   "source": [
    "###THE UTILMATE TEST IS NIGH!!!\n",
    "\n",
    "def is_segment_flatline(sig):\n",
    "    cond = np.where(np.diff(sig.copy(),1) != 0.0, False, True)\n",
    "    if len(cond[cond == True]) < 0.70 * len(sig):\n",
    "        return False\n",
    "    return True\n",
    "\n",
    "def TSD_index_fast(dico_signal, name_lead, fs):\n",
    "\n",
    "    ###Index Creation :TSD\n",
    "    ###The label will be as follow : mean(TSD) < 1.25 = Acceptable;mean(SDR of all lead) >1.25 = Unacceptable\n",
    "    ##For each lead, we will return a more precise classification based on the folloying rules:\n",
    "    ## TSD<1.25 = Good quality ; 1.25<TSD<1.40 = Medium quality; TSD>1.4 = Bad quality\n",
    "    # dico_seg = Interval_calculator(dico_signal,name_lead,fs,t0)\n",
    "    dico_D = {}\n",
    "    D_arr = np.array([])\n",
    "    dic_segment = Interval_calculator_all(dico_signal,name_lead,fs)\n",
    "    #dic_segment = 2500\n",
    "    for i in name_lead:\n",
    "        if is_segment_flatline(dico_signal[i]):\n",
    "            dico_D[i] = (2,dico_signal[i])\n",
    "            D_arr = np.append(D_arr,2)\n",
    "        else :\n",
    "            Dv, _ = TSD_mean_calculator_fast(dico_signal[i],dic_segment[i],fs)\n",
    "            dico_D[i] = (Dv, dico_signal[i])\n",
    "            D_arr = np.append(D_arr, Dv)\n",
    "    return dico_D, np.mean(D_arr)"
   ]
  },
  {
   "cell_type": "code",
   "execution_count": null,
   "metadata": {},
   "outputs": [],
   "source": [
    "## AND NOW THE TEST:\n",
    "\n",
    "dico_d,val = TSD_index_fast(dico_ECG,ECG_lead,fs)\n",
    "print(dico_d)"
   ]
  }
 ],
 "metadata": {
  "kernelspec": {
   "display_name": "Python 3.10.8 64-bit",
   "language": "python",
   "name": "python3"
  },
  "language_info": {
   "codemirror_mode": {
    "name": "ipython",
    "version": 3
   },
   "file_extension": ".py",
   "mimetype": "text/x-python",
   "name": "python",
   "nbconvert_exporter": "python",
   "pygments_lexer": "ipython3",
   "version": "3.10.8"
  },
  "orig_nbformat": 4,
  "vscode": {
   "interpreter": {
    "hash": "949777d72b0d2535278d3dc13498b2535136f6dfe0678499012e853ee9abcab1"
   }
  }
 },
 "nbformat": 4,
 "nbformat_minor": 2
}
