{
 "cells": [
  {
   "cell_type": "code",
   "execution_count": null,
   "metadata": {},
   "outputs": [],
   "source": [
    "from petastorm import make_reader\n",
    "import numpy as np\n",
    "import sys\n",
    "import os\n",
    "import pandas as pd\n",
    "import seaborn as sn\n",
    "import mogptk as mo\n",
    "sys.path.append(os.path.join(os.getcwd(), \"..\"))\n",
    "path_formatted_glasgow_disease = \"/workspaces/maitrise/data/20220902_data_physio_formatted_merged/merged/dataParquet\"\n",
    "path_petastorm_disease = f\"file:///{path_formatted_glasgow_disease}\"\n",
    "path_formatted_glasgow = \"/workspaces/maitrise/data/20221006_physio_quality/set-a/dataParquet\"\n",
    "path_petastorm = f\"file:///{path_formatted_glasgow}\"\n",
    "path_csv_ref_label = \"/workspaces/maitrise/data/20221006_physio_quality/set-a/REFERENCE.csv\""
   ]
  },
  {
   "cell_type": "code",
   "execution_count": null,
   "metadata": {},
   "outputs": [],
   "source": [
    "##Dataset Organization : \n",
    "with make_reader(path_petastorm) as reader:\n",
    "    for sample in reader:\n",
    "        data = sample\n",
    "        if data.signal_quality == \"acceptable\".encode():\n",
    "            break\n",
    "        else : \n",
    "            continue\n",
    "\n",
    "ECG_lead = [e.decode('UTF-8') for e in data.signal_names]\n",
    "fs = data.sampling_frequency\n",
    "dico_ECG = {}\n",
    "for i,j in zip(ECG_lead,range(12)):\n",
    "    \n",
    "    dico_ECG[i] = data.signal[:,j]\n",
    "N = len(dico_ECG[ECG_lead[0]])\n",
    "print(data)"
   ]
  },
  {
   "cell_type": "code",
   "execution_count": null,
   "metadata": {},
   "outputs": [],
   "source": [
    "##Dataset with MOGPTK\n",
    "t = np.linspace(0,N/fs,N)\n",
    "\n",
    "# dataset = mo.DataSet(mo.Data(t,dico_ECG[ECG_lead[0]],name = ECG_lead[0]),\n",
    "#                      mo.Data(t,dico_ECG[ECG_lead[1]],name = ECG_lead[1]),\n",
    "#                      mo.Data(t,dico_ECG[ECG_lead[2]],name = ECG_lead[2]),\n",
    "#                      mo.Data(t,dico_ECG[ECG_lead[3]],name = ECG_lead[3]),\n",
    "#                      mo.Data(t,dico_ECG[ECG_lead[4]],name = ECG_lead[4]),\n",
    "#                      mo.Data(t,dico_ECG[ECG_lead[5]],name = ECG_lead[5]),\n",
    "#                      mo.Data(t,dico_ECG[ECG_lead[6]],name = ECG_lead[6]),\n",
    "#                      mo.Data(t,dico_ECG[ECG_lead[7]],name = ECG_lead[7]),\n",
    "#                      mo.Data(t,dico_ECG[ECG_lead[8]],name = ECG_lead[8]),\n",
    "#                      mo.Data(t,dico_ECG[ECG_lead[9]],name = ECG_lead[9]),\n",
    "#                      mo.Data(t,dico_ECG[ECG_lead[10]],name = ECG_lead[10]),\n",
    "#                      mo.Data(t,dico_ECG[ECG_lead[11]],name = ECG_lead[11]))\n",
    "\n",
    "dataset = mo.DataSet(mo.Data(t,dico_ECG[ECG_lead[0]],name = ECG_lead[0]),\n",
    "                     mo.Data(t,dico_ECG[ECG_lead[1]],name = ECG_lead[1]),\n",
    "                     mo.Data(t,dico_ECG[ECG_lead[2]],name = ECG_lead[2]))\n"
   ]
  },
  {
   "cell_type": "code",
   "execution_count": null,
   "metadata": {},
   "outputs": [],
   "source": [
    "##Removing datapoints in dataset :\n",
    "class TransformWhiten(mo.TransformBase):\n",
    "    \"\"\"\n",
    "    Transform the data so it has mean 0 and variance 1\n",
    "    \"\"\"\n",
    "    def __init__(self):\n",
    "        pass\n",
    "\n",
    "    def set_data(self, y,x=None):\n",
    "        # take only the non-removed observations\n",
    "        self.mean = y.mean()\n",
    "        self.std = y.std()\n",
    "\n",
    "    def forward(self, y, x=None):\n",
    "        return (y - self.mean) / self.std\n",
    "\n",
    "    def backward(self, y, x=None):\n",
    "        return (y * self.std) + self.mean\n",
    "\n",
    "\n",
    "start_ = 1\n",
    "end_ = 3\n",
    "test = 1\n",
    "for channel in dataset:\n",
    "    channel.filter(start_, end_)\n",
    "\n",
    "for i, channel in enumerate(dataset):\n",
    "    if i == 0:\n",
    "        channel.remove_range(end_-test, end_)\n",
    "\n",
    "for data in dataset:\n",
    "    data.remove_randomly(pct=0.5)\n",
    "\n",
    "for channel in dataset:\n",
    "    channel.transform(TransformWhiten())\n",
    "    channel.transform(mo.TransformLog())\n",
    "\n",
    "dataset.plot('Normalized Dataset')\n"
   ]
  },
  {
   "cell_type": "code",
   "execution_count": null,
   "metadata": {},
   "outputs": [],
   "source": [
    "# create model\n",
    "model = mo.MOSM(dataset, Q=4)\n",
    "# initial estimation of parameters\n",
    "model.init_parameters()\n",
    "# train\n",
    "model.train(iters=1000, verbose=True, plot=True)\n",
    "# predict and plot\n",
    "model.plot_prediction(title='Trained model')"
   ]
  }
 ],
 "metadata": {
  "kernelspec": {
   "display_name": "Python 3.10.8 64-bit",
   "language": "python",
   "name": "python3"
  },
  "language_info": {
   "codemirror_mode": {
    "name": "ipython",
    "version": 3
   },
   "file_extension": ".py",
   "mimetype": "text/x-python",
   "name": "python",
   "nbconvert_exporter": "python",
   "pygments_lexer": "ipython3",
   "version": "3.10.8"
  },
  "orig_nbformat": 4,
  "vscode": {
   "interpreter": {
    "hash": "949777d72b0d2535278d3dc13498b2535136f6dfe0678499012e853ee9abcab1"
   }
  }
 },
 "nbformat": 4,
 "nbformat_minor": 2
}
