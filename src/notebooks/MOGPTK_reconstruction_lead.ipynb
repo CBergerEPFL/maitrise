{
 "cells": [
  {
   "cell_type": "code",
   "execution_count": null,
   "metadata": {},
   "outputs": [],
   "source": [
    "from petastorm import make_reader\n",
    "import numpy as np\n",
    "import sys\n",
    "import os\n",
    "import pandas as pd\n",
    "import seaborn as sn\n",
    "import mogptk as mo\n",
    "sys.path.append(os.path.join(os.getcwd(), \"..\"))\n",
    "path_formatted_glasgow_disease = \"/workspaces/maitrise/data/20220902_data_physio_formatted_merged/merged/dataParquet\"\n",
    "path_petastorm_disease = f\"file:///{path_formatted_glasgow_disease}\"\n",
    "path_formatted_glasgow = \"/workspaces/maitrise/data/20221006_physio_quality/set-a/dataParquet\"\n",
    "path_petastorm = f\"file:///{path_formatted_glasgow}\"\n",
    "path_csv_ref_label = \"/workspaces/maitrise/data/20221006_physio_quality/set-a/REFERENCE.csv\""
   ]
  },
  {
   "cell_type": "code",
   "execution_count": null,
   "metadata": {},
   "outputs": [],
   "source": [
    "##Dataset Organization : \n",
    "with make_reader(path_petastorm) as reader:\n",
    "    for sample in reader:\n",
    "        data = sample\n",
    "        if data.signal_quality == \"acceptable\".encode():\n",
    "            break\n",
    "        else : \n",
    "            continue\n",
    "\n",
    "ECG_lead = [e.decode('UTF-8') for e in data.signal_names]\n",
    "fs = data.sampling_frequency\n",
    "dico_ECG = {}\n",
    "for i,j in zip(ECG_lead,range(12)):\n",
    "    \n",
    "    dico_ECG[i] = data.signal[:,j]\n",
    "N = len(dico_ECG[ECG_lead[0]])\n",
    "print(data)"
   ]
  },
  {
   "cell_type": "code",
   "execution_count": null,
   "metadata": {},
   "outputs": [],
   "source": [
    "##Dataset with MOGPTK\n",
    "t = np.linspace(0,N/fs,N)\n",
    "\n",
    "# dataset = mo.DataSet(mo.Data(t,dico_ECG[ECG_lead[0]],name = ECG_lead[0]),\n",
    "#                      mo.Data(t,dico_ECG[ECG_lead[1]],name = ECG_lead[1]),\n",
    "#                      mo.Data(t,dico_ECG[ECG_lead[2]],name = ECG_lead[2]),\n",
    "#                      mo.Data(t,dico_ECG[ECG_lead[3]],name = ECG_lead[3]),\n",
    "#                      mo.Data(t,dico_ECG[ECG_lead[4]],name = ECG_lead[4]),\n",
    "#                      mo.Data(t,dico_ECG[ECG_lead[5]],name = ECG_lead[5]),\n",
    "#                      mo.Data(t,dico_ECG[ECG_lead[6]],name = ECG_lead[6]),\n",
    "#                      mo.Data(t,dico_ECG[ECG_lead[7]],name = ECG_lead[7]),\n",
    "#                      mo.Data(t,dico_ECG[ECG_lead[8]],name = ECG_lead[8]),\n",
    "#                      mo.Data(t,dico_ECG[ECG_lead[9]],name = ECG_lead[9]),\n",
    "#                      mo.Data(t,dico_ECG[ECG_lead[10]],name = ECG_lead[10]),\n",
    "#                      mo.Data(t,dico_ECG[ECG_lead[11]],name = ECG_lead[11]))\n",
    "\n",
    "dataset = mo.DataSet(mo.Data(t,dico_ECG[ECG_lead[0]],name = ECG_lead[0]),\n",
    "                     mo.Data(t,dico_ECG[ECG_lead[1]],name = ECG_lead[1]),\n",
    "                     mo.Data(t,dico_ECG[ECG_lead[2]],name = ECG_lead[2]),\n",
    "                     mo.Data(t,dico_ECG[ECG_lead[3]],name = ECG_lead[3]),\n",
    "                     mo.Data(t,dico_ECG[ECG_lead[7]],name = ECG_lead[7]))\n",
    "\n",
    "# df = pd.DataFrame(dico_ECG)\n",
    "# df[\"Time\"] = t\n",
    "\n",
    "# sel = list([ECG_lead[i] for i in range(0,3)])\n",
    "# dataset = mo.LoadDataFrame(df,x_col =\"Time\",y_col = sel)\n",
    "# dataset"
   ]
  },
  {
   "cell_type": "code",
   "execution_count": null,
   "metadata": {},
   "outputs": [],
   "source": [
    "##Removing datapoints in dataset :\n",
    "class TransformStandard(mo.TransformBase):\n",
    "    \"\"\"\n",
    "    Transform the data so it has mean 0 and variance 1\n",
    "    \"\"\"\n",
    "    def __init__(self):\n",
    "        pass\n",
    "    \n",
    "    def set_data(self, y, x=None):\n",
    "        self.mean = y.mean()\n",
    "        self.std = y.std()\n",
    "        \n",
    "    def forward(self, y, x=None):\n",
    "        return (y - self.mean) / self.std\n",
    "    \n",
    "    def backward(self, y, x=None):\n",
    "        return (y * self.std) + self.mean\n",
    "\n",
    "start_ = 1\n",
    "end_ = 5\n",
    "for channel in dataset:\n",
    "    channel.filter(start_, end_)\n",
    "\n",
    "for i, channel in enumerate(dataset):\n",
    "    if i == 0:\n",
    "        channel.remove_range(start_,end_-1)\n",
    "        channel.remove_randomly(pct=0.4)\n",
    "    if i == 1:\n",
    "        #channel.remove_range(1,2)\n",
    "        channel.remove_randomly(pct=0.4)\n",
    "    if i == 2:\n",
    "        #channel.remove_range(2,3)\n",
    "        channel.remove_randomly(pct=0.4)\n",
    "    if i == 3:\n",
    "        #channel.remove_range(1.5,2.5)\n",
    "        channel.remove_randomly(pct=0.4)\n",
    "    if i == 4:\n",
    "        #channel.remove_range(3,4)\n",
    "        channel.remove_randomly(pct=0.4)\n",
    "        \n",
    "\n",
    "dataset.transform(TransformStandard())\n",
    "\n",
    "dataset.plot('Normalized Dataset')"
   ]
  },
  {
   "cell_type": "code",
   "execution_count": null,
   "metadata": {},
   "outputs": [],
   "source": [
    "method = \"Adam\"\n",
    "iters = 100\n",
    "lr = 0.01\n",
    "init_par = \"BNSE\"\n",
    "error_used = \"MAE\"\n",
    "Q = 5"
   ]
  },
  {
   "cell_type": "code",
   "execution_count": null,
   "metadata": {},
   "outputs": [],
   "source": [
    "##Model Spectral Mixture kernels : \n",
    "sm = mo.SM(dataset,Q = Q)\n",
    "sm.init_parameters(init_par)\n",
    "sm.train(method = method,lr = lr,iters = iters,verbose = True,error = error_used,plot = True)\n",
    "sm.plot_prediction(title = \"SM for ECG reconstruction \")"
   ]
  },
  {
   "cell_type": "code",
   "execution_count": null,
   "metadata": {},
   "outputs": [],
   "source": [
    "# create model\n",
    "mosm = mo.MOSM(dataset,Q = Q)\n",
    "mosm.init_parameters(init_par)\n",
    "mosm.train(method = method,lr = lr,iters = iters,verbose = True,error = error_used,plot = True)\n",
    "mosm.plot_prediction(title = \"MOSM for ECG reconstruction using \")"
   ]
  },
  {
   "cell_type": "code",
   "execution_count": null,
   "metadata": {},
   "outputs": [],
   "source": [
    "csm= mo.CSM(dataset,Q = Q)\n",
    "csm.init_parameters(init_par)\n",
    "csm.train(method = method,lr = lr,iters = iters,verbose = True,error = error_used,plot = True)\n",
    "csm.plot_prediction(title = \"CSM for ECG reconstruction using \")"
   ]
  },
  {
   "cell_type": "code",
   "execution_count": null,
   "metadata": {},
   "outputs": [],
   "source": [
    "smlmc= mo.SM_LMC(dataset,Q = Q)\n",
    "smlmc.init_parameters(init_par)\n",
    "smlmc.train(method = method,lr = lr,iters = iters,verbose = True,error = error_used,plot = True)\n",
    "smlmc.plot_prediction(title = \"SM_LMC for ECG reconstruction\")"
   ]
  },
  {
   "cell_type": "code",
   "execution_count": null,
   "metadata": {},
   "outputs": [],
   "source": [
    "conv= mo.CONV(dataset,Q = Q)\n",
    "conv.init_parameters(init_par)\n",
    "conv.train(method = method,lr = lr,iters = iters,verbose = True,error = error_used,plot = True)\n",
    "conv.plot_prediction(title = \"Conv for ECG reconstruction\")"
   ]
  },
  {
   "cell_type": "code",
   "execution_count": null,
   "metadata": {},
   "outputs": [],
   "source": [
    "mo.error(sm, mosm, csm, smlmc, conv, disp=True)"
   ]
  }
 ],
 "metadata": {
  "kernelspec": {
   "display_name": "Python 3.10.8 64-bit",
   "language": "python",
   "name": "python3"
  },
  "language_info": {
   "codemirror_mode": {
    "name": "ipython",
    "version": 3
   },
   "file_extension": ".py",
   "mimetype": "text/x-python",
   "name": "python",
   "nbconvert_exporter": "python",
   "pygments_lexer": "ipython3",
   "version": "3.10.8"
  },
  "orig_nbformat": 4,
  "vscode": {
   "interpreter": {
    "hash": "949777d72b0d2535278d3dc13498b2535136f6dfe0678499012e853ee9abcab1"
   }
  }
 },
 "nbformat": 4,
 "nbformat_minor": 2
}
